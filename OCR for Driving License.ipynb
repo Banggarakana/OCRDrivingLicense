{
 "cells": [
  {
   "cell_type": "markdown",
   "metadata": {},
   "source": [
    "# Fitering noise from images"
   ]
  },
  {
   "cell_type": "code",
   "execution_count": 59,
   "metadata": {},
   "outputs": [
    {
     "name": "stdout",
     "output_type": "stream",
     "text": [
      "Requirement already satisfied: pytesseract in c:\\users\\rakha kahansa\\anaconda3\\lib\\site-packages (0.3.0)\n",
      "Requirement already satisfied: Pillow in c:\\users\\rakha kahansa\\anaconda3\\lib\\site-packages (from pytesseract) (6.1.0)\n"
     ]
    }
   ],
   "source": [
    "!pip install pytesseract"
   ]
  },
  {
   "cell_type": "code",
   "execution_count": 60,
   "metadata": {},
   "outputs": [],
   "source": [
    "import numpy as np\n",
    "import cv2 as cv\n",
    "from scipy import signal\n",
    "from PIL import Image\n",
    "from scipy.misc import imsave\n",
    "import pytesseract\n",
    "import pandas as pd"
   ]
  },
  {
   "cell_type": "code",
   "execution_count": 61,
   "metadata": {},
   "outputs": [],
   "source": [
    "def load_image(path):\n",
    "    return np.asarray(Image.open(path))/255.0\n",
    "\n",
    "def save(path, img):\n",
    "    tmp = np.asarray(img*255.0, dtype=np.uint8)\n",
    "    Image.fromarray(tmp).save(path)\n",
    "\n",
    "def denoise_image(inp):\n",
    "    # estimate 'background' color by a median filter\n",
    "    bg = signal.medfilt2d(inp, 11)\n",
    "    save('background.png', bg)\n",
    "    mask = inp < bg - 0.1\n",
    "    save('foreground_mask.png', mask)\n",
    "    return np.where(mask, inp, 1.0)\n",
    "\n",
    "def rgb2bw(path, img): #color to bw\n",
    "    image_file = Image.open(path) # open colour image\n",
    "    image_file = image_file.convert('L') # convert image to black and white\n",
    "    image_file.save(img)\n",
    "    \n",
    "def denoise_noisy_lines(path, img):\n",
    "    image = cv.imread(path)\n",
    "    img = cv.fastNlMeansDenoisingColored(image,None,10,10,7,21)\n",
    "    save(img)"
   ]
  },
  {
   "cell_type": "markdown",
   "metadata": {},
   "source": [
    "# OCR Indonesia Driving License Detection"
   ]
  },
  {
   "cell_type": "code",
   "execution_count": 67,
   "metadata": {},
   "outputs": [
    {
     "name": "stdout",
     "output_type": "stream",
     "text": [
      "Nama: RAKHA KAHANSA PUTRA\n",
      "No SIM: 1205170714617\n",
      "Berlaku Sampai: 05-09-2022\n",
      "Tempat & Tanggal Lahir: 05-09-1999\n",
      "Jenis Kelamin: PRIA\n"
     ]
    },
    {
     "data": {
      "text/html": [
       "<div>\n",
       "<style scoped>\n",
       "    .dataframe tbody tr th:only-of-type {\n",
       "        vertical-align: middle;\n",
       "    }\n",
       "\n",
       "    .dataframe tbody tr th {\n",
       "        vertical-align: top;\n",
       "    }\n",
       "\n",
       "    .dataframe thead th {\n",
       "        text-align: right;\n",
       "    }\n",
       "</style>\n",
       "<table border=\"1\" class=\"dataframe\">\n",
       "  <thead>\n",
       "    <tr style=\"text-align: right;\">\n",
       "      <th></th>\n",
       "      <th>Jenis Kelamin</th>\n",
       "      <th>Nama</th>\n",
       "      <th>Nomor SIM</th>\n",
       "      <th>TTL</th>\n",
       "      <th>Tanggal Berlaku</th>\n",
       "    </tr>\n",
       "  </thead>\n",
       "  <tbody>\n",
       "    <tr>\n",
       "      <th>0</th>\n",
       "      <td>PRIA</td>\n",
       "      <td>RAKHA KAHANSA PUTRA</td>\n",
       "      <td>1205170714617</td>\n",
       "      <td>05-09-1999</td>\n",
       "      <td>05-09-2022</td>\n",
       "    </tr>\n",
       "    <tr>\n",
       "      <th>1</th>\n",
       "      <td>PRIA</td>\n",
       "      <td>RAKHA KAHANSA PUTRA</td>\n",
       "      <td>1205170714617</td>\n",
       "      <td>05-09-1999</td>\n",
       "      <td>05-09-2022</td>\n",
       "    </tr>\n",
       "  </tbody>\n",
       "</table>\n",
       "</div>"
      ],
      "text/plain": [
       "  Jenis Kelamin                 Nama      Nomor SIM         TTL  \\\n",
       "0          PRIA  RAKHA KAHANSA PUTRA  1205170714617  05-09-1999   \n",
       "1          PRIA  RAKHA KAHANSA PUTRA  1205170714617  05-09-1999   \n",
       "\n",
       "  Tanggal Berlaku  \n",
       "0      05-09-2022  \n",
       "1      05-09-2022  "
      ]
     },
     "execution_count": 67,
     "metadata": {},
     "output_type": "execute_result"
    }
   ],
   "source": [
    "import pytesseract\n",
    "from PIL import Image\n",
    "import pandas as pd\n",
    "\n",
    "nama = Image.open('C:/Users/Rakha Kahansa/Pictures/ocr mania/namaaa.jpg')\n",
    "pytesseract.pytesseract.tesseract_cmd = 'C:/Program Files/Tesseract-OCR/tesseract.exe'\n",
    "name = ( pytesseract.image_to_string(nama) )\n",
    "print(\"Nama: \"+name)\n",
    "\n",
    "nomor = Image.open('C:/Users/Rakha Kahansa/Pictures/ocr mania/nomor.jpg')\n",
    "pytesseract.pytesseract.tesseract_cmd = 'C:/Program Files/Tesseract-OCR/tesseract.exe'\n",
    "numb = ( pytesseract.image_to_string(nomor) )\n",
    "print(\"No SIM: \"+numb)\n",
    "\n",
    "berlaku = Image.open('C:/Users/Rakha Kahansa/Pictures/ocr mania/berlakuu.jpg')\n",
    "pytesseract.pytesseract.tesseract_cmd = 'C:/Program Files/Tesseract-OCR/tesseract.exe'\n",
    "valid = ( pytesseract.image_to_string(berlaku) )\n",
    "print(\"Berlaku Sampai: \"+valid)\n",
    "\n",
    "ttl = Image.open('C:/Users/Rakha Kahansa/Pictures/ocr mania/ttlfix.jpg')\n",
    "pytesseract.pytesseract.tesseract_cmd = 'C:/Program Files/Tesseract-OCR/tesseract.exe'\n",
    "dob = ( pytesseract.image_to_string(ttl) )\n",
    "print(\"Tempat & Tanggal Lahir: \"+dob)\n",
    "\n",
    "tipe = Image.open('C:/Users/Rakha Kahansa/Pictures/ocr mania/gender.jpg')\n",
    "pytesseract.pytesseract.tesseract_cmd = 'C:/Program Files/Tesseract-OCR/tesseract.exe'\n",
    "gender = ( pytesseract.image_to_string(tipe) )\n",
    "print(\"Jenis Kelamin: \"+gender)\n",
    "\n",
    "variable = [name,numb,valid,dob,gender]\n",
    "#rint (variable)\n",
    "\n",
    "data = {'Nama': [name,name],\n",
    "        'Nomor SIM': [numb,numb],\n",
    "        'Tanggal Berlaku': [valid,valid],\n",
    "       'TTL': [dob,dob],\n",
    "       'Jenis Kelamin': [gender,gender]}\n",
    "df = pd.DataFrame(data) \n",
    "df\n",
    "  "
   ]
  },
  {
   "cell_type": "markdown",
   "metadata": {},
   "source": [
    "# OCR Indonesia Vehicle License Detection"
   ]
  },
  {
   "cell_type": "code",
   "execution_count": 63,
   "metadata": {},
   "outputs": [
    {
     "data": {
      "text/html": [
       "<div>\n",
       "<style scoped>\n",
       "    .dataframe tbody tr th:only-of-type {\n",
       "        vertical-align: middle;\n",
       "    }\n",
       "\n",
       "    .dataframe tbody tr th {\n",
       "        vertical-align: top;\n",
       "    }\n",
       "\n",
       "    .dataframe thead th {\n",
       "        text-align: right;\n",
       "    }\n",
       "</style>\n",
       "<table border=\"1\" class=\"dataframe\">\n",
       "  <thead>\n",
       "    <tr style=\"text-align: right;\">\n",
       "      <th></th>\n",
       "      <th>Isi Silinder</th>\n",
       "      <th>Jenis Kendaraan</th>\n",
       "      <th>Merk</th>\n",
       "      <th>Nomor Rangka</th>\n",
       "      <th>Plat Nomor</th>\n",
       "      <th>Tahun Pembuatan</th>\n",
       "      <th>Tanggal Berlaku</th>\n",
       "      <th>Tipe</th>\n",
       "    </tr>\n",
       "  </thead>\n",
       "  <tbody>\n",
       "    <tr>\n",
       "      <th>0</th>\n",
       "      <td>115:¢¢</td>\n",
       "      <td>SEPEDA MOTOR</td>\n",
       "      <td>YAMAHA</td>\n",
       "      <td>MH32BU00563300880</td>\n",
       "      <td>F 6855 DS</td>\n",
       "      <td>2016</td>\n",
       "      <td>19 Sep 2021</td>\n",
       "      <td>2 BU AT</td>\n",
       "    </tr>\n",
       "    <tr>\n",
       "      <th>1</th>\n",
       "      <td>115:¢¢</td>\n",
       "      <td>SEPEDA MOTOR</td>\n",
       "      <td>YAMAHA</td>\n",
       "      <td>MH32BU00563300880</td>\n",
       "      <td>F 6855 DS</td>\n",
       "      <td>2016</td>\n",
       "      <td>19 Sep 2021</td>\n",
       "      <td>2 BU AT</td>\n",
       "    </tr>\n",
       "  </tbody>\n",
       "</table>\n",
       "</div>"
      ],
      "text/plain": [
       "  Isi Silinder Jenis Kendaraan    Merk       Nomor Rangka Plat Nomor  \\\n",
       "0       115:¢¢    SEPEDA MOTOR  YAMAHA  MH32BU00563300880  F 6855 DS   \n",
       "1       115:¢¢    SEPEDA MOTOR  YAMAHA  MH32BU00563300880  F 6855 DS   \n",
       "\n",
       "  Tahun Pembuatan Tanggal Berlaku     Tipe  \n",
       "0            2016     19 Sep 2021  2 BU AT  \n",
       "1            2016     19 Sep 2021  2 BU AT  "
      ]
     },
     "execution_count": 63,
     "metadata": {},
     "output_type": "execute_result"
    }
   ],
   "source": [
    "import pytesseract\n",
    "from PIL import Image\n",
    "import pandas as pd\n",
    "\n",
    "plat = Image.open('C:/Users/Rakha Kahansa/Pictures/ocr mania/stnk1.jpg')\n",
    "pytesseract.pytesseract.tesseract_cmd = 'C:/Program Files/Tesseract-OCR/tesseract.exe'\n",
    "platt = ( pytesseract.image_to_string(plat) )\n",
    "\n",
    "brand = Image.open('C:/Users/Rakha Kahansa/Pictures/ocr mania/stnk2.jpg')\n",
    "pytesseract.pytesseract.tesseract_cmd = 'C:/Program Files/Tesseract-OCR/tesseract.exe'\n",
    "merk = ( pytesseract.image_to_string(brand) )\n",
    "\n",
    "tipe = Image.open('C:/Users/Rakha Kahansa/Pictures/ocr mania/stnk3.jpg')\n",
    "pytesseract.pytesseract.tesseract_cmd = 'C:/Program Files/Tesseract-OCR/tesseract.exe'\n",
    "type = ( pytesseract.image_to_string(tipe) )\n",
    "\n",
    "jenis = Image.open('C:/Users/Rakha Kahansa/Pictures/ocr mania/stnk4.jpg')\n",
    "pytesseract.pytesseract.tesseract_cmd = 'C:/Program Files/Tesseract-OCR/tesseract.exe'\n",
    "jeniss = ( pytesseract.image_to_string(jenis) )\n",
    "\n",
    "tahun = Image.open('C:/Users/Rakha Kahansa/Pictures/ocr mania/stnk5.jpg')\n",
    "pytesseract.pytesseract.tesseract_cmd = 'C:/Program Files/Tesseract-OCR/tesseract.exe'\n",
    "year = ( pytesseract.image_to_string(tahun) )\n",
    "\n",
    "silinder = Image.open('C:/Users/Rakha Kahansa/Pictures/ocr mania/stnk6.jpg')\n",
    "pytesseract.pytesseract.tesseract_cmd = 'C:/Program Files/Tesseract-OCR/tesseract.exe'\n",
    "cylinder = ( pytesseract.image_to_string(silinder) )\n",
    "\n",
    "NIK = Image.open('C:/Users/Rakha Kahansa/Pictures/ocr mania/stnk7.jpg')\n",
    "pytesseract.pytesseract.tesseract_cmd = 'C:/Program Files/Tesseract-OCR/tesseract.exe'\n",
    "vin = ( pytesseract.image_to_string(NIK) )\n",
    "\n",
    "date = Image.open('C:/Users/Rakha Kahansa/Pictures/ocr mania/stnk9.jpg')\n",
    "pytesseract.pytesseract.tesseract_cmd = 'C:/Program Files/Tesseract-OCR/tesseract.exe'\n",
    "tanggal = ( pytesseract.image_to_string(date) )\n",
    "\n",
    "variables = [platt,merk,type,jeniss,year,cylinder,vin,nms,tanggal]\n",
    "\n",
    "data = {'Plat Nomor': [platt,platt],\n",
    "        'Merk': [merk,merk],\n",
    "        'Tipe': [type,type],\n",
    "       'Jenis Kendaraan': [jeniss,jeniss],\n",
    "       'Tahun Pembuatan': [year,year],\n",
    "       'Isi Silinder': [cylinder,cylinder],\n",
    "       'Nomor Rangka': [vin,vin],\n",
    "       'Tanggal Berlaku': [tanggal,tanggal]}\n",
    "df = pd.DataFrame(data) \n",
    "df"
   ]
  },
  {
   "cell_type": "code",
   "execution_count": 56,
   "metadata": {},
   "outputs": [],
   "source": [
    "rgb2bw('C:/Users/Rakha Kahansa/Pictures/bayangan.jpg','C:/Users/Rakha Kahansa/Pictures/bayangan2.jpg')"
   ]
  },
  {
   "cell_type": "code",
   "execution_count": 30,
   "metadata": {},
   "outputs": [
    {
     "data": {
      "text/plain": [
       "array([[[0.14901961, 0.11372549, 0.09411765],\n",
       "        [0.14509804, 0.10980392, 0.09019608],\n",
       "        [0.15294118, 0.11764706, 0.09803922],\n",
       "        ...,\n",
       "        [0.71372549, 0.69803922, 0.6       ],\n",
       "        [0.71764706, 0.70196078, 0.60392157],\n",
       "        [0.72156863, 0.70588235, 0.60784314]],\n",
       "\n",
       "       [[0.14117647, 0.10588235, 0.08627451],\n",
       "        [0.14117647, 0.10588235, 0.08627451],\n",
       "        [0.14117647, 0.10588235, 0.08627451],\n",
       "        ...,\n",
       "        [0.71372549, 0.69803922, 0.6       ],\n",
       "        [0.72156863, 0.70588235, 0.60784314],\n",
       "        [0.72156863, 0.70588235, 0.60784314]],\n",
       "\n",
       "       [[0.14117647, 0.10196078, 0.09411765],\n",
       "        [0.14901961, 0.10980392, 0.10196078],\n",
       "        [0.14509804, 0.10980392, 0.09019608],\n",
       "        ...,\n",
       "        [0.72156863, 0.70588235, 0.60784314],\n",
       "        [0.7254902 , 0.70980392, 0.61176471],\n",
       "        [0.72941176, 0.71372549, 0.61568627]],\n",
       "\n",
       "       ...,\n",
       "\n",
       "       [[0.2       , 0.18039216, 0.16470588],\n",
       "        [0.2       , 0.18039216, 0.16470588],\n",
       "        [0.19607843, 0.17647059, 0.16078431],\n",
       "        ...,\n",
       "        [0.52156863, 0.49803922, 0.40392157],\n",
       "        [0.5372549 , 0.50588235, 0.42352941],\n",
       "        [0.53333333, 0.50196078, 0.41176471]],\n",
       "\n",
       "       [[0.18823529, 0.17254902, 0.16078431],\n",
       "        [0.18431373, 0.16862745, 0.15686275],\n",
       "        [0.19215686, 0.17254902, 0.16078431],\n",
       "        ...,\n",
       "        [0.51372549, 0.49019608, 0.40392157],\n",
       "        [0.5254902 , 0.49411765, 0.41960784],\n",
       "        [0.5254902 , 0.49411765, 0.41176471]],\n",
       "\n",
       "       [[0.62745098, 0.61176471, 0.6       ],\n",
       "        [0.62745098, 0.61176471, 0.6       ],\n",
       "        [0.63529412, 0.61568627, 0.60392157],\n",
       "        ...,\n",
       "        [0.79215686, 0.76470588, 0.69019608],\n",
       "        [0.80392157, 0.77254902, 0.69803922],\n",
       "        [0.8       , 0.76862745, 0.69411765]]])"
      ]
     },
     "execution_count": 30,
     "metadata": {},
     "output_type": "execute_result"
    }
   ],
   "source": [
    "inp = load_image('C:/Users/Rakha Kahansa/Pictures/bayangan.jpg')\n",
    "inp"
   ]
  }
 ],
 "metadata": {
  "kernelspec": {
   "display_name": "Python 3",
   "language": "python",
   "name": "python3"
  },
  "language_info": {
   "codemirror_mode": {
    "name": "ipython",
    "version": 3
   },
   "file_extension": ".py",
   "mimetype": "text/x-python",
   "name": "python",
   "nbconvert_exporter": "python",
   "pygments_lexer": "ipython3",
   "version": "3.5.6"
  }
 },
 "nbformat": 4,
 "nbformat_minor": 2
}
